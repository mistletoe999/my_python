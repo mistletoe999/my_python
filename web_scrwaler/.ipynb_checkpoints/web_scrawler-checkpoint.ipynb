{
 "cells": [
  {
   "cell_type": "markdown",
   "metadata": {},
   "source": [
    "|a|a|"
   ]
  },
  {
   "cell_type": "markdown",
   "metadata": {},
   "source": [
    "|Module in 2.x| Module in 3.x     |3rd party package|\n",
    "|---------|------|------|\n",
    "|   urllib  | urllib.request     | requests, scrapy\n",
    "|  urllib2 | urllib.error||\n",
    "|urlparse |urllib.parse|BeautifulSoup|\n",
    "| robotparser|urllib.robotparser||"
   ]
  },
  {
   "cell_type": "code",
   "execution_count": null,
   "metadata": {
    "collapsed": true
   },
   "outputs": [],
   "source": []
  }
 ],
 "metadata": {
  "kernelspec": {
   "display_name": "Python 2",
   "language": "python",
   "name": "python2"
  },
  "language_info": {
   "codemirror_mode": {
    "name": "ipython",
    "version": 2
   },
   "file_extension": ".py",
   "mimetype": "text/x-python",
   "name": "python",
   "nbconvert_exporter": "python",
   "pygments_lexer": "ipython2",
   "version": "2.7.9"
  }
 },
 "nbformat": 4,
 "nbformat_minor": 0
}
